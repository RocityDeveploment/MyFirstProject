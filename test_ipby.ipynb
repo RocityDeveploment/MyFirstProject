{
  "nbformat": 4,
  "nbformat_minor": 0,
  "metadata": {
    "colab": {
      "provenance": [],
      "authorship_tag": "ABX9TyNYyiS+CegrXu8RW4YClTma",
      "include_colab_link": true
    },
    "kernelspec": {
      "name": "python3",
      "display_name": "Python 3"
    },
    "language_info": {
      "name": "python"
    }
  },
  "cells": [
    {
      "cell_type": "markdown",
      "metadata": {
        "id": "view-in-github",
        "colab_type": "text"
      },
      "source": [
        "<a href=\"https://colab.research.google.com/github/RocityDeveploment/MyFirstProject/blob/main/test_ipby.ipynb\" target=\"_parent\"><img src=\"https://colab.research.google.com/assets/colab-badge.svg\" alt=\"Open In Colab\"/></a>"
      ]
    },
    {
      "cell_type": "code",
      "execution_count": null,
      "metadata": {
        "colab": {
          "base_uri": "https://localhost:8080/"
        },
        "id": "YwQjDvD9u4db",
        "outputId": "55987968-4b8f-4a10-aa42-98c779450827"
      },
      "outputs": [
        {
          "output_type": "error",
          "ename": "SyntaxError",
          "evalue": "ignored",
          "traceback": [
            "\u001b[0;36m  File \u001b[0;32m\"<ipython-input-9-6f69751ce1d7>\"\u001b[0;36m, line \u001b[0;32m1\u001b[0m\n\u001b[0;31m    echo \"====================================\"\u001b[0m\n\u001b[0m                                              ^\u001b[0m\n\u001b[0;31mSyntaxError\u001b[0m\u001b[0;31m:\u001b[0m invalid syntax\n"
          ]
        }
      ],
      "source": [
        "echo \"====================================\"\n",
        "echo \"Download windows files\"\n",
        "echo \"====================================\"\n",
        "curl -L -o w10x64.img https://bit.ly/akuhnetW10x64\n",
        "echo \"====================================\"\n",
        "echo \"Download ngrok\"\n",
        "echo \"====================================\"\n",
        "wget https://bin.equinox.io/c/4VmDzA7iaHb/ngrok-stable-linux-amd64.zip > /dev/null 2>&1\n",
        "unzip ngrok-stable-linux-amd64.zip &>/dev/null &\n",
        "unzip ngrok-stable-linux-amd64.zip1 &>/dev/null &\n",
        "read -p \"Ctrl + V Authtoken: \" CRP \n",
        "./ngrok authtoken $CRP \n",
        "nohup ./ngrok tcp 3388 &>/dev/null &\n",
        "./ngrok tcp 3388 &>/dev/null &\n",
        "echo \"====================================\"\n",
        "echo Downloading File From akuh.net\n",
        "echo \"====================================\"\n",
        "apt-get install qemu > /dev/null 2>&1\n",
        "echo \"====================================\"\n",
        "echo \"Wait\"\n",
        "echo \"Starting Windows\"\n",
        "echo \"====================================\"\n",
        "echo \"====================================\"\n",
        "echo RDP Address:\n",
        "curl --silent --show-error http://127.0.0.1:4040/api/tunnels | sed -nE 's/.*public_url\":\"tcp:..([^\"]*).*/\\1/p'\n",
        "echo \"====================================\"\n",
        "echo \"====================================\"\n",
        "echo \"Ctrl+C To Copy\"\n",
        "echo \"Wait 1-2 minute to finish bot\"\n",
        "echo \"Dont Close This Tab\"\n",
        "echo \"====================================\"\n",
        "echo \"====================================\"\n",
        "echo \"Username: akuh\"\n",
        "echo \"Password: Akuh.Net\"\n",
        "echo \"====================================\"\n",
        "qemu-system-x86_64 -hda w10x64.img -m 8G -smp cores=4 -net user,hostfwd=tcp::3388-:3389 -net nic -object rng-random,id=rng0,filename=/dev/urandom -device virtio-rng-pci,rng=rng0 -vga vmware -nographic  > /dev/null 2>&1\n",
        "sleep 43200"
      ]
    }
  ]
}